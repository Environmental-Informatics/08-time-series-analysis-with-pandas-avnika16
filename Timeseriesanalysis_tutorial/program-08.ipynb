{
 "cells": [
  {
   "cell_type": "code",
   "execution_count": 58,
   "metadata": {},
   "outputs": [],
   "source": [
    "#importing packages\n",
    "import pandas as pd\n",
    "import numpy as np\n",
    "from pandas import Series, DataFrame\n",
    "import matplotlib.pyplot as plt"
   ]
  },
  {
   "cell_type": "code",
   "execution_count": 15,
   "metadata": {},
   "outputs": [],
   "source": [
    "#Loading data\n",
    "data= pd.read_table(\"WabashRiver_DailyDischarge_20150317-20160324.txt\", skiprows=[0,21,25], header=[22], parse_dates=[[2,3]])"
   ]
  },
  {
   "cell_type": "code",
   "execution_count": 16,
   "metadata": {},
   "outputs": [
    {
     "data": {
      "text/html": [
       "<div>\n",
       "<style scoped>\n",
       "    .dataframe tbody tr th:only-of-type {\n",
       "        vertical-align: middle;\n",
       "    }\n",
       "\n",
       "    .dataframe tbody tr th {\n",
       "        vertical-align: top;\n",
       "    }\n",
       "\n",
       "    .dataframe thead th {\n",
       "        text-align: right;\n",
       "    }\n",
       "</style>\n",
       "<table border=\"1\" class=\"dataframe\">\n",
       "  <thead>\n",
       "    <tr style=\"text-align: right;\">\n",
       "      <th></th>\n",
       "      <th>datetime_tz_cd</th>\n",
       "      <th>agency_cd</th>\n",
       "      <th>site_no</th>\n",
       "      <th>01_00060</th>\n",
       "      <th>01_00060_cd</th>\n",
       "    </tr>\n",
       "  </thead>\n",
       "  <tbody>\n",
       "    <tr>\n",
       "      <td>0</td>\n",
       "      <td>2015-03-17 00:00:00-04:00</td>\n",
       "      <td>USGS</td>\n",
       "      <td>3335500</td>\n",
       "      <td>23200</td>\n",
       "      <td>P</td>\n",
       "    </tr>\n",
       "    <tr>\n",
       "      <td>1</td>\n",
       "      <td>2015-03-17 00:15:00-04:00</td>\n",
       "      <td>USGS</td>\n",
       "      <td>3335500</td>\n",
       "      <td>23100</td>\n",
       "      <td>P</td>\n",
       "    </tr>\n",
       "    <tr>\n",
       "      <td>2</td>\n",
       "      <td>2015-03-17 00:30:00-04:00</td>\n",
       "      <td>USGS</td>\n",
       "      <td>3335500</td>\n",
       "      <td>23100</td>\n",
       "      <td>P</td>\n",
       "    </tr>\n",
       "    <tr>\n",
       "      <td>3</td>\n",
       "      <td>2015-03-17 00:45:00-04:00</td>\n",
       "      <td>USGS</td>\n",
       "      <td>3335500</td>\n",
       "      <td>23100</td>\n",
       "      <td>P</td>\n",
       "    </tr>\n",
       "    <tr>\n",
       "      <td>4</td>\n",
       "      <td>2015-03-17 01:00:00-04:00</td>\n",
       "      <td>USGS</td>\n",
       "      <td>3335500</td>\n",
       "      <td>23100</td>\n",
       "      <td>P</td>\n",
       "    </tr>\n",
       "    <tr>\n",
       "      <td>...</td>\n",
       "      <td>...</td>\n",
       "      <td>...</td>\n",
       "      <td>...</td>\n",
       "      <td>...</td>\n",
       "      <td>...</td>\n",
       "    </tr>\n",
       "    <tr>\n",
       "      <td>35834</td>\n",
       "      <td>2016-03-24 12:30:00-04:00</td>\n",
       "      <td>USGS</td>\n",
       "      <td>3335500</td>\n",
       "      <td>5930</td>\n",
       "      <td>P</td>\n",
       "    </tr>\n",
       "    <tr>\n",
       "      <td>35835</td>\n",
       "      <td>2016-03-24 12:45:00-04:00</td>\n",
       "      <td>USGS</td>\n",
       "      <td>3335500</td>\n",
       "      <td>5900</td>\n",
       "      <td>P</td>\n",
       "    </tr>\n",
       "    <tr>\n",
       "      <td>35836</td>\n",
       "      <td>2016-03-24 13:00:00-04:00</td>\n",
       "      <td>USGS</td>\n",
       "      <td>3335500</td>\n",
       "      <td>5920</td>\n",
       "      <td>P</td>\n",
       "    </tr>\n",
       "    <tr>\n",
       "      <td>35837</td>\n",
       "      <td>2016-03-24 13:15:00-04:00</td>\n",
       "      <td>USGS</td>\n",
       "      <td>3335500</td>\n",
       "      <td>5920</td>\n",
       "      <td>P</td>\n",
       "    </tr>\n",
       "    <tr>\n",
       "      <td>35838</td>\n",
       "      <td>2016-03-24 13:30:00-04:00</td>\n",
       "      <td>USGS</td>\n",
       "      <td>3335500</td>\n",
       "      <td>5860</td>\n",
       "      <td>P</td>\n",
       "    </tr>\n",
       "  </tbody>\n",
       "</table>\n",
       "<p>35839 rows × 5 columns</p>\n",
       "</div>"
      ],
      "text/plain": [
       "                 datetime_tz_cd agency_cd  site_no  01_00060 01_00060_cd\n",
       "0     2015-03-17 00:00:00-04:00      USGS  3335500     23200           P\n",
       "1     2015-03-17 00:15:00-04:00      USGS  3335500     23100           P\n",
       "2     2015-03-17 00:30:00-04:00      USGS  3335500     23100           P\n",
       "3     2015-03-17 00:45:00-04:00      USGS  3335500     23100           P\n",
       "4     2015-03-17 01:00:00-04:00      USGS  3335500     23100           P\n",
       "...                         ...       ...      ...       ...         ...\n",
       "35834 2016-03-24 12:30:00-04:00      USGS  3335500      5930           P\n",
       "35835 2016-03-24 12:45:00-04:00      USGS  3335500      5900           P\n",
       "35836 2016-03-24 13:00:00-04:00      USGS  3335500      5920           P\n",
       "35837 2016-03-24 13:15:00-04:00      USGS  3335500      5920           P\n",
       "35838 2016-03-24 13:30:00-04:00      USGS  3335500      5860           P\n",
       "\n",
       "[35839 rows x 5 columns]"
      ]
     },
     "execution_count": 16,
     "metadata": {},
     "output_type": "execute_result"
    }
   ],
   "source": [
    "data #display data"
   ]
  },
  {
   "cell_type": "code",
   "execution_count": 21,
   "metadata": {},
   "outputs": [],
   "source": [
    "#Daily average streamflow\n",
    "tsavgs = pd.date_range('2015-03-17 00:00:00', periods=data.shape[0], freq='15min')"
   ]
  },
  {
   "cell_type": "code",
   "execution_count": 22,
   "metadata": {},
   "outputs": [
    {
     "data": {
      "text/plain": [
       "DatetimeIndex(['2015-03-17 00:00:00', '2015-03-17 00:15:00',\n",
       "               '2015-03-17 00:30:00', '2015-03-17 00:45:00',\n",
       "               '2015-03-17 01:00:00', '2015-03-17 01:15:00',\n",
       "               '2015-03-17 01:30:00', '2015-03-17 01:45:00',\n",
       "               '2015-03-17 02:00:00', '2015-03-17 02:15:00',\n",
       "               ...\n",
       "               '2016-03-24 05:15:00', '2016-03-24 05:30:00',\n",
       "               '2016-03-24 05:45:00', '2016-03-24 06:00:00',\n",
       "               '2016-03-24 06:15:00', '2016-03-24 06:30:00',\n",
       "               '2016-03-24 06:45:00', '2016-03-24 07:00:00',\n",
       "               '2016-03-24 07:15:00', '2016-03-24 07:30:00'],\n",
       "              dtype='datetime64[ns]', length=35839, freq='15T')"
      ]
     },
     "execution_count": 22,
     "metadata": {},
     "output_type": "execute_result"
    }
   ],
   "source": [
    "tsavgs #Display daily average streamflow"
   ]
  },
  {
   "cell_type": "code",
   "execution_count": 37,
   "metadata": {},
   "outputs": [],
   "source": [
    "AvgStfl = Series(data.loc[:,'01_00060'].values, index=tsavgs) #Creating time series data"
   ]
  },
  {
   "cell_type": "code",
   "execution_count": 43,
   "metadata": {},
   "outputs": [],
   "source": [
    "AvgStflmean= AvgStfl.resample('D').mean() #Resampling for daily mean streamflow dataset"
   ]
  },
  {
   "cell_type": "code",
   "execution_count": 45,
   "metadata": {},
   "outputs": [
    {
     "data": {
      "image/png": "[encoded data removed]",
      "text/plain": [
       "<Figure size 432x288 with 1 Axes>"
      ]
     },
     "metadata": {
      "needs_background": "light"
     },
     "output_type": "display_data"
    }
   ],
   "source": [
    "#Plotting data points\n",
    "ax=AvgStflmean.plot()\n",
    "ax.set_xlabel('Time')\n",
    "ax.set_ylabel('Average Daily Streamflow')\n",
    "ax.set_title('Daily Average Streamflow')\n",
    "plt.savefig('amanakta_dailyaveragestreamflow.pdf')"
   ]
  },
  {
   "cell_type": "code",
   "execution_count": 49,
   "metadata": {},
   "outputs": [
    {
     "data": {
      "text/plain": [
       "2015-06-18    68169.791667\n",
       "2015-06-19    67908.333333\n",
       "2015-06-28    63076.041667\n",
       "2015-06-17    60522.916667\n",
       "2015-06-29    60147.916667\n",
       "2015-06-20    57897.916667\n",
       "2015-12-29    52647.916667\n",
       "2015-06-30    51310.416667\n",
       "2015-12-30    48789.583333\n",
       "dtype: float64"
      ]
     },
     "execution_count": 49,
     "metadata": {},
     "output_type": "execute_result"
    }
   ],
   "source": [
    "#Sorting for highest mean streamflow\n",
    "descsorted= AvgStflmean.sort_values(ascending= False)\n",
    "highestdays= descsorted[:9]"
   ]
  },
  {
   "cell_type": "code",
   "execution_count": 54,
   "metadata": {},
   "outputs": [
    {
     "data": {
      "image/png": "[encoded data removed]",
      "text/plain": [
       "<Figure size 432x288 with 1 Axes>"
      ]
     },
     "metadata": {
      "needs_background": "light"
     },
     "output_type": "display_data"
    }
   ],
   "source": [
    "#Plotting top 10 daily streamflow \n",
    "ax= highestdays.plot(style= \"o\")\n",
    "ax.set_xlabel('Time')\n",
    "ax.set_ylabel('Average Streamflow')\n",
    "ax.set_title('Top 10 Daily Streamflow')\n",
    "plt.savefig('amanakta_highest10.pdf')"
   ]
  },
  {
   "cell_type": "code",
   "execution_count": 59,
   "metadata": {},
   "outputs": [
    {
     "data": {
      "image/png": "[encoded data removed]",
      "text/plain": [
       "<Figure size 432x288 with 1 Axes>"
      ]
     },
     "metadata": {
      "needs_background": "light"
     },
     "output_type": "display_data"
    }
   ],
   "source": [
    "#Resampling for monthly mean flow and plotting \n",
    "Monthsorted= AvgStflmean.resample(\"M\").mean()\n",
    "ax= Monthsorted.plot(style=\"o\")\n",
    "ax.set_xlabel('Time')\n",
    "ax.set_ylabel('Average Streamflow')\n",
    "ax.set_title('Monthly Average Streamflow')\n",
    "plt.savefig('amanakta_MonthlyAverageStreamflow.pdf')"
   ]
  },
  {
   "cell_type": "code",
   "execution_count": null,
   "metadata": {},
   "outputs": [],
   "source": []
  }
 ],
 "metadata": {
  "kernelspec": {
   "display_name": "Python 3",
   "language": "python",
   "name": "python3"
  },
  "language_info": {
   "codemirror_mode": {
    "name": "ipython",
    "version": 3
   },
   "file_extension": ".py",
   "mimetype": "text/x-python",
   "name": "python",
   "nbconvert_exporter": "python",
   "pygments_lexer": "ipython3",
   "version": "3.7.4"
  }
 },
 "nbformat": 4,
 "nbformat_minor": 2
}
